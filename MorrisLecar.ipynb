{
 "cells": [
  {
   "cell_type": "code",
   "execution_count": 122,
   "metadata": {
    "collapsed": false
   },
   "outputs": [],
   "source": [
    "# Assign values to variables\n",
    "C = 6.69810502993\n",
    "V_1 = 30\n",
    "V_2 = 15\n",
    "V_3 = 0\n",
    "V_4 = 30\n",
    "phi = 0.025\n",
    "V_L = -50\n",
    "V_Ca = 100\n",
    "V_K = -70\n",
    "g_Ca = 1.1\n",
    "g_K = 2\n",
    "g_L = 0.5\n",
    "V = -52.14\n",
    "N = 0.02"
   ]
  },
  {
   "cell_type": "code",
   "execution_count": 133,
   "metadata": {
    "collapsed": false
   },
   "outputs": [],
   "source": [
    "import numpy as np\n",
    "\n",
    "scale = 0.5\n",
    "length = 1000\n",
    "center = 0.5\n",
    "current = list(scale * np.random.random((length)) + center)"
   ]
  },
  {
   "cell_type": "code",
   "execution_count": 124,
   "metadata": {
    "collapsed": false
   },
   "outputs": [],
   "source": [
    "#Define functions\n",
    "M_ss = lambda: (1/2) * (1 + np.tanh((V - V_1) / V_2))\n",
    "N_ss = lambda: (1/2) * (1 + np.tanh((V - V_3) / V_4))\n",
    "T_N = lambda: 1 / (phi * np.cosh((V - V_3) / (2 * V_4)))\n",
    "\n",
    "#Define differential equations\n",
    "dV = lambda I: (I - g_L * (V - V_L) - g_Ca * M_ss() * (V - V_Ca) - g_K * N * (V - V_K)) / C\n",
    "dN = lambda: (N_ss() - N) / T_N()\n",
    "\n",
    "#Equations for the input of each channel\n",
    "L = lambda: - g_L * (V - V_L)\n",
    "Ca = lambda: - g_Ca * M_ss() * (V - V_Ca)\n",
    "K = lambda: - g_K * N * (V - V_K)"
   ]
  },
  {
   "cell_type": "code",
   "execution_count": 134,
   "metadata": {
    "collapsed": false,
    "scrolled": false
   },
   "outputs": [],
   "source": [
    "import pandas as pd\n",
    "\n",
    "#Pandas DataFrame to store variables\n",
    "base_data = {\n",
    "    \"t\" : [],\n",
    "    \"I\" : [],\n",
    "    \"V\" : [],\n",
    "    \"N\" : [],\n",
    "    \"L\" : [],\n",
    "    \"Ca\" : [],\n",
    "    \"K\" : [],\n",
    "    \"N_ss\" : [],\n",
    "    \"T_N\" : []\n",
    "}\n",
    "data = base_data\n",
    "\n",
    "for t, I in zip(range(len(current)), current):\n",
    "\t#Update variables\n",
    "\tV = V + dV(I)\n",
    "\tN = N + dN()\n",
    "\t#Update DataFrame\n",
    "\tdata[\"t\"].append(t)\n",
    "\tdata[\"I\"].append(I)\n",
    "\tdata[\"V\"].append(V)\n",
    "\tdata[\"N\"].append(N)\n",
    "\tdata[\"L\"].append(L())\n",
    "\tdata[\"Ca\"].append(Ca())\n",
    "\tdata[\"K\"].append(K())\n",
    "\tdata[\"N_ss\"].append(N_ss())\n",
    "\tdata[\"T_N\"].append(T_N())\n",
    "\n",
    "data = pd.DataFrame.from_dict(data)"
   ]
  },
  {
   "cell_type": "code",
   "execution_count": 126,
   "metadata": {
    "collapsed": false
   },
   "outputs": [
    {
     "data": {
      "text/html": [
       "<div>\n",
       "<table border=\"1\" class=\"dataframe\">\n",
       "  <thead>\n",
       "    <tr style=\"text-align: right;\">\n",
       "      <th></th>\n",
       "      <th>Ca</th>\n",
       "      <th>I</th>\n",
       "      <th>K</th>\n",
       "      <th>L</th>\n",
       "      <th>N</th>\n",
       "      <th>N_ss</th>\n",
       "      <th>T_N</th>\n",
       "      <th>V</th>\n",
       "      <th>t</th>\n",
       "    </tr>\n",
       "  </thead>\n",
       "  <tbody>\n",
       "    <tr>\n",
       "      <th>0</th>\n",
       "      <td>0.002981</td>\n",
       "      <td>0.517194</td>\n",
       "      <td>-0.732546</td>\n",
       "      <td>1.004629</td>\n",
       "      <td>0.020359</td>\n",
       "      <td>0.030258</td>\n",
       "      <td>28.575303</td>\n",
       "      <td>-52.009258</td>\n",
       "      <td>0</td>\n",
       "    </tr>\n",
       "    <tr>\n",
       "      <th>1</th>\n",
       "      <td>0.003043</td>\n",
       "      <td>0.800285</td>\n",
       "      <td>-0.752035</td>\n",
       "      <td>0.924356</td>\n",
       "      <td>0.020716</td>\n",
       "      <td>0.030573</td>\n",
       "      <td>28.628805</td>\n",
       "      <td>-51.848712</td>\n",
       "      <td>1</td>\n",
       "    </tr>\n",
       "    <tr>\n",
       "      <th>2</th>\n",
       "      <td>0.003097</td>\n",
       "      <td>0.751501</td>\n",
       "      <td>-0.770693</td>\n",
       "      <td>0.855168</td>\n",
       "      <td>0.021069</td>\n",
       "      <td>0.030848</td>\n",
       "      <td>28.674914</td>\n",
       "      <td>-51.710335</td>\n",
       "      <td>2</td>\n",
       "    </tr>\n",
       "    <tr>\n",
       "      <th>3</th>\n",
       "      <td>0.003159</td>\n",
       "      <td>0.962400</td>\n",
       "      <td>-0.790260</td>\n",
       "      <td>0.776789</td>\n",
       "      <td>0.021420</td>\n",
       "      <td>0.031162</td>\n",
       "      <td>28.727144</td>\n",
       "      <td>-51.553579</td>\n",
       "      <td>3</td>\n",
       "    </tr>\n",
       "    <tr>\n",
       "      <th>4</th>\n",
       "      <td>0.003208</td>\n",
       "      <td>0.835436</td>\n",
       "      <td>-0.808435</td>\n",
       "      <td>0.715196</td>\n",
       "      <td>0.021768</td>\n",
       "      <td>0.031411</td>\n",
       "      <td>28.768184</td>\n",
       "      <td>-51.430391</td>\n",
       "      <td>4</td>\n",
       "    </tr>\n",
       "  </tbody>\n",
       "</table>\n",
       "</div>"
      ],
      "text/plain": [
       "         Ca         I         K         L         N      N_ss        T_N  \\\n",
       "0  0.002981  0.517194 -0.732546  1.004629  0.020359  0.030258  28.575303   \n",
       "1  0.003043  0.800285 -0.752035  0.924356  0.020716  0.030573  28.628805   \n",
       "2  0.003097  0.751501 -0.770693  0.855168  0.021069  0.030848  28.674914   \n",
       "3  0.003159  0.962400 -0.790260  0.776789  0.021420  0.031162  28.727144   \n",
       "4  0.003208  0.835436 -0.808435  0.715196  0.021768  0.031411  28.768184   \n",
       "\n",
       "           V  t  \n",
       "0 -52.009258  0  \n",
       "1 -51.848712  1  \n",
       "2 -51.710335  2  \n",
       "3 -51.553579  3  \n",
       "4 -51.430391  4  "
      ]
     },
     "execution_count": 126,
     "metadata": {},
     "output_type": "execute_result"
    }
   ],
   "source": [
    "data.head()"
   ]
  },
  {
   "cell_type": "code",
   "execution_count": 127,
   "metadata": {
    "collapsed": false
   },
   "outputs": [
    {
     "name": "stderr",
     "output_type": "stream",
     "text": [
      "C:\\Users\\jonathan\\Anaconda3\\lib\\site-packages\\matplotlib\\__init__.py:1357: UserWarning:  This call to matplotlib.use() has no effect\n",
      "because the backend has already been chosen;\n",
      "matplotlib.use() must be called *before* pylab, matplotlib.pyplot,\n",
      "or matplotlib.backends is imported for the first time.\n",
      "\n",
      "  warnings.warn(_use_error_msg)\n"
     ]
    },
    {
     "data": {
      "image/png": "[encoded data removed]",
      "text/plain": [
       "<matplotlib.figure.Figure at 0x1a95755bba8>"
      ]
     },
     "metadata": {},
     "output_type": "display_data"
    }
   ],
   "source": [
    "%matplotlib inline\n",
    "import matplotlib\n",
    "matplotlib.use(\"agg\")\n",
    "import matplotlib.pyplot as plt\n",
    "\n",
    "for col in data.keys():\n",
    "    if col in [\"t\", \"I\", \"L\"]: continue\n",
    "    plt.plot(data[col]/np.mean(data[col]))\n",
    "    plt.legend()\n",
    "plt.show()"
   ]
  },
  {
   "cell_type": "code",
   "execution_count": 128,
   "metadata": {
    "collapsed": true
   },
   "outputs": [],
   "source": [
    "value = 0.5\n",
    "length = 1000\n",
    "current = [value for _ in range(length)]"
   ]
  },
  {
   "cell_type": "code",
   "execution_count": 129,
   "metadata": {
    "collapsed": true
   },
   "outputs": [],
   "source": [
    "data = base_data\n",
    "\n",
    "for t, I in zip(range(len(current)), current):\n",
    "\t#Update variables\n",
    "\tV = V + dV(I)\n",
    "\tN = N + dN()\n",
    "\t#Update DataFrame\n",
    "\tdata[\"t\"].append(t)\n",
    "\tdata[\"I\"].append(I)\n",
    "\tdata[\"V\"].append(V)\n",
    "\tdata[\"N\"].append(N)\n",
    "\tdata[\"L\"].append(L())\n",
    "\tdata[\"Ca\"].append(Ca())\n",
    "\tdata[\"K\"].append(K())\n",
    "\tdata[\"N_ss\"].append(N_ss())\n",
    "\tdata[\"T_N\"].append(T_N())\n",
    "    \n",
    "data = pd.DataFrame.from_dict(base_data)"
   ]
  },
  {
   "cell_type": "code",
   "execution_count": 130,
   "metadata": {
    "collapsed": false
   },
   "outputs": [
    {
     "data": {
      "text/html": [
       "<div>\n",
       "<table border=\"1\" class=\"dataframe\">\n",
       "  <thead>\n",
       "    <tr style=\"text-align: right;\">\n",
       "      <th></th>\n",
       "      <th>Ca</th>\n",
       "      <th>I</th>\n",
       "      <th>K</th>\n",
       "      <th>L</th>\n",
       "      <th>N</th>\n",
       "      <th>N_ss</th>\n",
       "      <th>T_N</th>\n",
       "      <th>V</th>\n",
       "      <th>t</th>\n",
       "    </tr>\n",
       "  </thead>\n",
       "  <tbody>\n",
       "    <tr>\n",
       "      <th>0</th>\n",
       "      <td>0.002981</td>\n",
       "      <td>0.517194</td>\n",
       "      <td>-0.732546</td>\n",
       "      <td>1.004629</td>\n",
       "      <td>0.020359</td>\n",
       "      <td>0.030258</td>\n",
       "      <td>28.575303</td>\n",
       "      <td>-52.009258</td>\n",
       "      <td>0</td>\n",
       "    </tr>\n",
       "    <tr>\n",
       "      <th>1</th>\n",
       "      <td>0.003043</td>\n",
       "      <td>0.800285</td>\n",
       "      <td>-0.752035</td>\n",
       "      <td>0.924356</td>\n",
       "      <td>0.020716</td>\n",
       "      <td>0.030573</td>\n",
       "      <td>28.628805</td>\n",
       "      <td>-51.848712</td>\n",
       "      <td>1</td>\n",
       "    </tr>\n",
       "    <tr>\n",
       "      <th>2</th>\n",
       "      <td>0.003097</td>\n",
       "      <td>0.751501</td>\n",
       "      <td>-0.770693</td>\n",
       "      <td>0.855168</td>\n",
       "      <td>0.021069</td>\n",
       "      <td>0.030848</td>\n",
       "      <td>28.674914</td>\n",
       "      <td>-51.710335</td>\n",
       "      <td>2</td>\n",
       "    </tr>\n",
       "    <tr>\n",
       "      <th>3</th>\n",
       "      <td>0.003159</td>\n",
       "      <td>0.962400</td>\n",
       "      <td>-0.790260</td>\n",
       "      <td>0.776789</td>\n",
       "      <td>0.021420</td>\n",
       "      <td>0.031162</td>\n",
       "      <td>28.727144</td>\n",
       "      <td>-51.553579</td>\n",
       "      <td>3</td>\n",
       "    </tr>\n",
       "    <tr>\n",
       "      <th>4</th>\n",
       "      <td>0.003208</td>\n",
       "      <td>0.835436</td>\n",
       "      <td>-0.808435</td>\n",
       "      <td>0.715196</td>\n",
       "      <td>0.021768</td>\n",
       "      <td>0.031411</td>\n",
       "      <td>28.768184</td>\n",
       "      <td>-51.430391</td>\n",
       "      <td>4</td>\n",
       "    </tr>\n",
       "  </tbody>\n",
       "</table>\n",
       "</div>"
      ],
      "text/plain": [
       "         Ca         I         K         L         N      N_ss        T_N  \\\n",
       "0  0.002981  0.517194 -0.732546  1.004629  0.020359  0.030258  28.575303   \n",
       "1  0.003043  0.800285 -0.752035  0.924356  0.020716  0.030573  28.628805   \n",
       "2  0.003097  0.751501 -0.770693  0.855168  0.021069  0.030848  28.674914   \n",
       "3  0.003159  0.962400 -0.790260  0.776789  0.021420  0.031162  28.727144   \n",
       "4  0.003208  0.835436 -0.808435  0.715196  0.021768  0.031411  28.768184   \n",
       "\n",
       "           V  t  \n",
       "0 -52.009258  0  \n",
       "1 -51.848712  1  \n",
       "2 -51.710335  2  \n",
       "3 -51.553579  3  \n",
       "4 -51.430391  4  "
      ]
     },
     "execution_count": 130,
     "metadata": {},
     "output_type": "execute_result"
    }
   ],
   "source": [
    "data.head()"
   ]
  },
  {
   "cell_type": "code",
   "execution_count": 131,
   "metadata": {
    "collapsed": false
   },
   "outputs": [
    {
     "data": {
      "image/png": "[encoded data removed]",
      "text/plain": [
       "<matplotlib.figure.Figure at 0x1a955b33a58>"
      ]
     },
     "metadata": {},
     "output_type": "display_data"
    }
   ],
   "source": [
    "for col in data.keys():\n",
    "    if col in [\"t\", \"I\", \"L\"]: continue\n",
    "    plt.plot(data[col]/np.mean(data[col]))\n",
    "    plt.legend()\n",
    "plt.show()"
   ]
  }
 ],
 "metadata": {
  "kernelspec": {
   "display_name": "Python [default]",
   "language": "python",
   "name": "python3"
  },
  "language_info": {
   "codemirror_mode": {
    "name": "ipython",
    "version": 3
   },
   "file_extension": ".py",
   "mimetype": "text/x-python",
   "name": "python",
   "nbconvert_exporter": "python",
   "pygments_lexer": "ipython3",
   "version": "3.5.2"
  }
 },
 "nbformat": 4,
 "nbformat_minor": 1
}
