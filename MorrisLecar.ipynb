{
 "cells": [
  {
   "cell_type": "code",
   "execution_count": null,
   "metadata": {
    "collapsed": false,
    "nbpresent": {
     "id": "84a63e85-091f-4901-a52b-4314f57e5d81"
    }
   },
   "outputs": [],
   "source": [
    "# Assign values to variables\n",
    "C = 6.69810502993 # Capacitance of membrane\n",
    "V_1 = 30 # Tuning parameters for steady state and time constant\n",
    "V_2 = 15\n",
    "V_3 = 0\n",
    "V_4 = 30\n",
    "phi = 0.025 # reference frequency\n",
    "V_L = -50 # Equilibrum potentials for ion channels\n",
    "V_Ca = 100\n",
    "g_Ca = 1.1 # leak, conductances through membrane for each ion\n",
    "g_K = 2\n",
    "g_L = 0.5\n",
    "V = -52.14 # Membrane potential\n",
    "N = 0.02 # Recovery variance"
   ]
  },
  {
   "cell_type": "code",
   "execution_count": null,
   "metadata": {
    "collapsed": false,
    "nbpresent": {
     "id": "96cbb24f-7c1e-472b-b517-81617d466bcd"
    }
   },
   "outputs": [],
   "source": [
    "import numpy as np\n",
    "\n",
    "#Generate an input stimulus\n",
    "scale = 0.5\n",
    "length = 1000\n",
    "center = 0.5\n",
    "current = list(scale * np.random.random((length)) + center)"
   ]
  },
  {
   "cell_type": "code",
   "execution_count": null,
   "metadata": {
    "collapsed": false,
    "nbpresent": {
     "id": "2d1e86ff-a85a-47b0-83c5-e088f30d876f"
    }
   },
   "outputs": [],
   "source": [
    "#Define functions\n",
    "M_ss = lambda: (1/2) * (1 + np.tanh((V - V_1) / V_2))\n",
    "N_ss = lambda: (1/2) * (1 + np.tanh((V - V_3) / V_4))\n",
    "T_N = lambda: 1 / (phi * np.cosh((V - V_3) / (2 * V_4)))\n",
    "\n",
    "#Define differential equations\n",
    "dV = lambda I: (I - g_L * (V - V_L) - g_Ca * M_ss() * (V - V_Ca) - g_K * N * (V - V_K)) / C\n",
    "dN = lambda: (N_ss() - N) / T_N()\n",
    "\n",
    "#Equations for the input of each channel\n",
    "L = lambda: - g_L * (V - V_L)\n",
    "Ca = lambda: - g_Ca * M_ss() * (V - V_Ca)\n",
    "K = lambda: - g_K * N * (V - V_K)"
   ]
  },
  {
   "cell_type": "code",
   "execution_count": null,
   "metadata": {
    "collapsed": false,
    "nbpresent": {
     "id": "74576514-59a6-4d56-84bf-5447f9671b00"
    },
    "scrolled": false
   },
   "outputs": [],
   "source": [
    "import pandas as pd\n",
    "\n",
    "#Pandas DataFrame to store variables\n",
    "data = {\n",
    "    \"t\" : [],\n",
    "    \"I\" : [],\n",
    "    \"V\" : [],\n",
    "    \"N\" : [],\n",
    "    \"L\" : [],\n",
    "    \"Ca\" : [],\n",
    "    \"K\" : [],\n",
    "    \"N_ss\" : [],\n",
    "    \"T_N\" : []\n",
    "}\n",
    "\n",
    "for t, I in zip(range(len(current)), current):\n",
    "\t#Update variables\n",
    "\tV = V + dV(I)\n",
    "\tN = N + dN()\n",
    "\t#Update DataFrame\n",
    "\tdata[\"t\"].append(t)\n",
    "\tdata[\"I\"].append(I)\n",
    "\tdata[\"V\"].append(V)\n",
    "\tdata[\"N\"].append(N)\n",
    "\tdata[\"L\"].append(L())\n",
    "\tdata[\"Ca\"].append(Ca())\n",
    "\tdata[\"K\"].append(K())\n",
    "\tdata[\"N_ss\"].append(N_ss())\n",
    "\tdata[\"T_N\"].append(T_N())\n",
    "\n",
    "data = pd.DataFrame.from_dict(data)\n",
    "data.head()"
   ]
  },
  {
   "cell_type": "code",
   "execution_count": null,
   "metadata": {
    "collapsed": false,
    "nbpresent": {
     "id": "33f3dfd5-53c5-4bfc-aaef-4e9357bbc890"
    }
   },
   "outputs": [],
   "source": [
    "%matplotlib inline\n",
    "import matplotlib\n",
    "matplotlib.use(\"agg\")\n",
    "import matplotlib.pyplot as plt\n",
    "\n",
    "for col in data.keys():\n",
    "    if col in [\"t\", \"I\", \"L\"]: continue\n",
    "    plt.plot(data[col]/np.mean(data[col]))\n",
    "    plt.legend()\n",
    "plt.show()"
   ]
  },
  {
   "cell_type": "code",
   "execution_count": null,
   "metadata": {
    "collapsed": false,
    "nbpresent": {
     "id": "b69c9cd9-943f-4bfa-939f-0e6e1344afc1"
    }
   },
   "outputs": [],
   "source": [
    "# Generate an input stimulus\n",
    "value = 0.5\n",
    "length = 1000\n",
    "begin = 250\n",
    "end = 750\n",
    "current = [0 for _ in range(length)]\n",
    "current[begin:end] = [value for _ in range(end-begin)]\n",
    "plt.plot(current)\n",
    "plt.show()"
   ]
  },
  {
   "cell_type": "code",
   "execution_count": null,
   "metadata": {
    "collapsed": false,
    "nbpresent": {
     "id": "f3b13477-75ce-406b-bf8c-e6f3a7202a26"
    }
   },
   "outputs": [],
   "source": [
    "#Pandas DataFrame to store variables\n",
    "data = {\n",
    "    \"t\" : [],\n",
    "    \"I\" : [],\n",
    "    \"V\" : [],\n",
    "    \"N\" : [],\n",
    "    \"L\" : [],\n",
    "    \"Ca\" : [],\n",
    "    \"K\" : [],\n",
    "    \"N_ss\" : [],\n",
    "    \"T_N\" : []\n",
    "}\n",
    "\n",
    "for t, I in zip(range(len(current)), current):\n",
    "\t#Update variables\n",
    "\tV = V + dV(I)\n",
    "\tN = N + dN()\n",
    "\t#Update DataFrame\n",
    "\tdata[\"t\"].append(t)\n",
    "\tdata[\"I\"].append(I)\n",
    "\tdata[\"V\"].append(V)\n",
    "\tdata[\"N\"].append(N)\n",
    "\tdata[\"L\"].append(L())\n",
    "\tdata[\"Ca\"].append(Ca())\n",
    "\tdata[\"K\"].append(K())\n",
    "\tdata[\"N_ss\"].append(N_ss())\n",
    "\tdata[\"T_N\"].append(T_N())\n",
    "    \n",
    "data = pd.DataFrame.from_dict(data)\n",
    "data.head()"
   ]
  },
  {
   "cell_type": "code",
   "execution_count": null,
   "metadata": {
    "collapsed": false,
    "nbpresent": {
     "id": "42104c62-7591-4a05-86a4-e605f1c176aa"
    }
   },
   "outputs": [],
   "source": [
    "for col in data.keys():\n",
    "    if col in [\"t\", \"I\", \"L\"]: continue\n",
    "    plt.plot(data[col]/np.mean(data[col]))\n",
    "    plt.legend()\n",
    "plt.show()"
   ]
  },
  {
   "cell_type": "code",
   "execution_count": null,
   "metadata": {
    "collapsed": false,
    "nbpresent": {
     "id": "7d7f41e0-7676-4924-9b59-fcfc3cb29b2c"
    }
   },
   "outputs": [],
   "source": [
    "# Generate an input stimulus\n",
    "scale = 1\n",
    "step = np.pi/25\n",
    "length = 1000\n",
    "current = [np.sin(step*i) for i in range(length)]\n",
    "plt.plot(current)\n",
    "plt.show()"
   ]
  },
  {
   "cell_type": "code",
   "execution_count": null,
   "metadata": {
    "collapsed": false,
    "nbpresent": {
     "id": "797d34f9-e27e-43ca-b5bc-c7a4c5ccdcb8"
    }
   },
   "outputs": [],
   "source": [
    "#Pandas DataFrame to store variables\n",
    "data = {\n",
    "    \"t\" : [],\n",
    "    \"I\" : [],\n",
    "    \"V\" : [],\n",
    "    \"N\" : [],\n",
    "    \"L\" : [],\n",
    "    \"Ca\" : [],\n",
    "    \"K\" : [],\n",
    "    \"N_ss\" : [],\n",
    "    \"T_N\" : []\n",
    "}\n",
    "\n",
    "for t, I in zip(range(len(current)), current):\n",
    "\t#Update variables\n",
    "\tV = V + dV(I)\n",
    "\tN = N + dN()\n",
    "\t#Update DataFrame\n",
    "\tdata[\"t\"].append(t)\n",
    "\tdata[\"I\"].append(I)\n",
    "\tdata[\"V\"].append(V)\n",
    "\tdata[\"N\"].append(N)\n",
    "\tdata[\"L\"].append(L())\n",
    "\tdata[\"Ca\"].append(Ca())\n",
    "\tdata[\"K\"].append(K())\n",
    "\tdata[\"N_ss\"].append(N_ss())\n",
    "\tdata[\"T_N\"].append(T_N())\n",
    "    \n",
    "data = pd.DataFrame.from_dict(data)\n",
    "data.head()"
   ]
  },
  {
   "cell_type": "code",
   "execution_count": null,
   "metadata": {
    "collapsed": false,
    "nbpresent": {
     "id": "c1aa1f90-3f96-41b2-8997-529b9b183089"
    }
   },
   "outputs": [],
   "source": [
    "for col in data.keys():\n",
    "    if col in [\"t\", \"I\", \"L\"]: continue\n",
    "    plt.plot(data[col]/np.mean(data[col]))\n",
    "    plt.legend()\n",
    "plt.show()"
   ]
  },
  {
   "cell_type": "code",
   "execution_count": null,
   "metadata": {
    "collapsed": false,
    "nbpresent": {
     "id": "7e0a60c0-1dad-4a89-98fe-ae7fce018ff5"
    },
    "scrolled": true
   },
   "outputs": [],
   "source": [
    "plt.plot(data[\"N\"], data[\"V\"])\n",
    "plt.show()"
   ]
  }
 ],
 "metadata": {
  "anaconda-cloud": {},
  "kernelspec": {
   "display_name": "Python [default]",
   "language": "python",
   "name": "python3"
  },
  "language_info": {
   "codemirror_mode": {
    "name": "ipython",
    "version": 3
   },
   "file_extension": ".py",
   "mimetype": "text/x-python",
   "name": "python",
   "nbconvert_exporter": "python",
   "pygments_lexer": "ipython3",
   "version": "3.5.2"
  },
  "nbpresent": {
   "slides": {
    "0b927588-5d50-48a2-ba64-73d6e25648b6": {
     "id": "0b927588-5d50-48a2-ba64-73d6e25648b6",
     "prev": "304060e3-fe1f-4ab1-a877-f9ac88903da9",
     "regions": {
      "390c152d-9d6d-40b7-87b9-d54952d65062": {
       "attrs": {
        "height": 0.8,
        "width": 0.8,
        "x": 0.1,
        "y": 0.1
       },
       "content": {
        "cell": "f3b13477-75ce-406b-bf8c-e6f3a7202a26",
        "part": "whole"
       },
       "id": "390c152d-9d6d-40b7-87b9-d54952d65062"
      }
     }
    },
    "21d01fda-cb18-4f73-952e-592807e8529f": {
     "id": "21d01fda-cb18-4f73-952e-592807e8529f",
     "prev": "43d53532-c111-4f2d-9992-66489c19f172",
     "regions": {
      "7a84f834-5c47-48b2-bb3a-7b3cc9a2d095": {
       "attrs": {
        "height": 0.8,
        "width": 0.8,
        "x": 0.1,
        "y": 0.1
       },
       "content": {
        "cell": "33f3dfd5-53c5-4bfc-aaef-4e9357bbc890",
        "part": "whole"
       },
       "id": "7a84f834-5c47-48b2-bb3a-7b3cc9a2d095"
      }
     }
    },
    "23dd5873-9daa-4db1-9799-9b4f01b3caa3": {
     "id": "23dd5873-9daa-4db1-9799-9b4f01b3caa3",
     "prev": "7c8e6683-273b-4ab2-990d-00d986083cd5",
     "regions": {
      "1280c27b-1006-494a-8bfd-d753108699a0": {
       "attrs": {
        "height": 0.8,
        "width": 0.8,
        "x": 0.1,
        "y": 0.1
       },
       "content": {
        "cell": "7d7f41e0-7676-4924-9b59-fcfc3cb29b2c",
        "part": "whole"
       },
       "id": "1280c27b-1006-494a-8bfd-d753108699a0"
      }
     }
    },
    "272399ba-372c-4247-ace4-dd1db7ad1885": {
     "id": "272399ba-372c-4247-ace4-dd1db7ad1885",
     "prev": "a52bfa68-3469-44c1-9336-075c5a2eaea8",
     "regions": {
      "25d5a3b4-53cc-42cc-92b4-e5a8ffea5d4f": {
       "attrs": {
        "height": 0.8,
        "width": 0.8,
        "x": 0.1,
        "y": 0.1
       },
       "content": {
        "cell": "c1aa1f90-3f96-41b2-8997-529b9b183089",
        "part": "whole"
       },
       "id": "25d5a3b4-53cc-42cc-92b4-e5a8ffea5d4f"
      }
     }
    },
    "304060e3-fe1f-4ab1-a877-f9ac88903da9": {
     "id": "304060e3-fe1f-4ab1-a877-f9ac88903da9",
     "prev": "21d01fda-cb18-4f73-952e-592807e8529f",
     "regions": {
      "d7dec4d8-f7d3-41a4-a720-b0a7c1e95289": {
       "attrs": {
        "height": 0.8,
        "width": 0.8,
        "x": 0.1,
        "y": 0.1
       },
       "content": {
        "cell": "b69c9cd9-943f-4bfa-939f-0e6e1344afc1",
        "part": "whole"
       },
       "id": "d7dec4d8-f7d3-41a4-a720-b0a7c1e95289"
      }
     }
    },
    "43d53532-c111-4f2d-9992-66489c19f172": {
     "id": "43d53532-c111-4f2d-9992-66489c19f172",
     "prev": "98869adc-70d2-49c6-8ded-55a50a7a7c64",
     "regions": {
      "382cc714-94b5-4418-a1c4-02ca5abc0982": {
       "attrs": {
        "height": 0.8,
        "width": 0.8,
        "x": 0.1,
        "y": 0.1
       },
       "content": {
        "cell": "74576514-59a6-4d56-84bf-5447f9671b00",
        "part": "whole"
       },
       "id": "382cc714-94b5-4418-a1c4-02ca5abc0982"
      }
     }
    },
    "78ae2906-3db3-4668-9398-21fbe60d8e01": {
     "id": "78ae2906-3db3-4668-9398-21fbe60d8e01",
     "prev": "272399ba-372c-4247-ace4-dd1db7ad1885",
     "regions": {
      "ebf1e4eb-75d6-432e-ab28-d98c24b10c6c": {
       "attrs": {
        "height": 0.8,
        "width": 0.8,
        "x": 0.1,
        "y": 0.1
       },
       "content": {
        "cell": "7e0a60c0-1dad-4a89-98fe-ae7fce018ff5",
        "part": "whole"
       },
       "id": "ebf1e4eb-75d6-432e-ab28-d98c24b10c6c"
      }
     }
    },
    "7c8e6683-273b-4ab2-990d-00d986083cd5": {
     "id": "7c8e6683-273b-4ab2-990d-00d986083cd5",
     "prev": "0b927588-5d50-48a2-ba64-73d6e25648b6",
     "regions": {
      "649df481-4382-4b48-a10e-c0c417a30b54": {
       "attrs": {
        "height": 0.8,
        "width": 0.8,
        "x": 0.1,
        "y": 0.1
       },
       "content": {
        "cell": "42104c62-7591-4a05-86a4-e605f1c176aa",
        "part": "whole"
       },
       "id": "649df481-4382-4b48-a10e-c0c417a30b54"
      }
     }
    },
    "92bb1681-0754-4702-a99f-7b84752917e0": {
     "id": "92bb1681-0754-4702-a99f-7b84752917e0",
     "prev": null,
     "regions": {
      "d54363aa-00f6-4e6a-b3c5-66b410664426": {
       "attrs": {
        "height": 0.8,
        "width": 0.8,
        "x": 0.1,
        "y": 0.1
       },
       "content": {
        "cell": "84a63e85-091f-4901-a52b-4314f57e5d81",
        "part": "whole"
       },
       "id": "d54363aa-00f6-4e6a-b3c5-66b410664426"
      }
     }
    },
    "98869adc-70d2-49c6-8ded-55a50a7a7c64": {
     "id": "98869adc-70d2-49c6-8ded-55a50a7a7c64",
     "prev": "a2fef5be-e86a-4a51-b980-1c628dd21716",
     "regions": {
      "4a237029-e75b-4215-8763-dc63372c39f9": {
       "attrs": {
        "height": 0.8,
        "width": 0.8,
        "x": 0.1,
        "y": 0.1
       },
       "content": {
        "cell": "2d1e86ff-a85a-47b0-83c5-e088f30d876f",
        "part": "whole"
       },
       "id": "4a237029-e75b-4215-8763-dc63372c39f9"
      }
     }
    },
    "a2fef5be-e86a-4a51-b980-1c628dd21716": {
     "id": "a2fef5be-e86a-4a51-b980-1c628dd21716",
     "prev": "92bb1681-0754-4702-a99f-7b84752917e0",
     "regions": {
      "9e181b4f-7db1-4734-b42e-9c770e3d134e": {
       "attrs": {
        "height": 0.8,
        "width": 0.8,
        "x": 0.1,
        "y": 0.1
       },
       "content": {
        "cell": "96cbb24f-7c1e-472b-b517-81617d466bcd",
        "part": "whole"
       },
       "id": "9e181b4f-7db1-4734-b42e-9c770e3d134e"
      }
     }
    },
    "a52bfa68-3469-44c1-9336-075c5a2eaea8": {
     "id": "a52bfa68-3469-44c1-9336-075c5a2eaea8",
     "prev": "23dd5873-9daa-4db1-9799-9b4f01b3caa3",
     "regions": {
      "debeb5e0-6a0e-411c-b55f-cdc9e9195a18": {
       "attrs": {
        "height": 0.8,
        "width": 0.8,
        "x": 0.1,
        "y": 0.1
       },
       "content": {
        "cell": "797d34f9-e27e-43ca-b5bc-c7a4c5ccdcb8",
        "part": "whole"
       },
       "id": "debeb5e0-6a0e-411c-b55f-cdc9e9195a18"
      }
     }
    }
   },
   "themes": {}
  }
 },
 "nbformat": 4,
 "nbformat_minor": 1
}
